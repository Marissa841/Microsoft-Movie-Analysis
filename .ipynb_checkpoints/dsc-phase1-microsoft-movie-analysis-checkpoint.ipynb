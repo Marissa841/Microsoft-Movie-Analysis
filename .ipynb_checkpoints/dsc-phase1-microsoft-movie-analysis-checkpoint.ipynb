{
 "cells": [
  {
   "cell_type": "markdown",
   "metadata": {},
   "source": [
    "# Microsoft Movie Analysis\n",
    "\n",
    "**Author:** Marissa Bush\n",
    "***"
   ]
  },
  {
   "cell_type": "markdown",
   "metadata": {},
   "source": [
    "## Overview\n",
    "\n",
    "This EDA gives insight on what successful movie studios are doing well and what specific actions Microsoft can do to achieve similar aims."
   ]
  },
  {
   "cell_type": "markdown",
   "metadata": {},
   "source": [
    "## Business Problem\n",
    "\n",
    "Microsoft sees all the big companies creating original video content and they want to get in on the fun. They have decided to create a new movie studio, but they don’t know anything about creating movies. You are charged with exploring what types of films are currently doing the best at the box office. You must then translate those findings into actionable insights that the head of Microsoft's new movie studio can use to help decide what type of films to create."
   ]
  },
  {
   "cell_type": "markdown",
   "metadata": {},
   "source": [
    "**Question 1: How many films have the top studios made from 2010-2019, and which studio brings in the most earnings? In other words, what are the studios that will be Microsoft's biggest competition?**"
   ]
  },
  {
   "cell_type": "markdown",
   "metadata": {},
   "source": [
    "**Question 2: Is there a positive correlation between film length and domestic gross?**"
   ]
  },
  {
   "cell_type": "markdown",
   "metadata": {},
   "source": [
    "**Question 3: What are the most popular movie genres?**"
   ]
  },
  {
   "cell_type": "markdown",
   "metadata": {},
   "source": [
    "## Data Understanding\n",
    "\n",
    "Three sets of data were collected to answer these questions - box office mojo movie gross data, imdb title basics data, and imdb title ratings data.\n"
   ]
  },
  {
   "cell_type": "code",
   "execution_count": 1,
   "metadata": {},
   "outputs": [
    {
     "name": "stderr",
     "output_type": "stream",
     "text": [
      "/Users/marissabush/opt/anaconda3/envs/learn-env/lib/python3.6/site-packages/statsmodels/tools/_testing.py:19: FutureWarning: pandas.util.testing is deprecated. Use the functions in the public API at pandas.testing instead.\n",
      "  import pandas.util.testing as tm\n"
     ]
    }
   ],
   "source": [
    "# Import standard packages\n",
    "import pandas as pd\n",
    "import numpy as np\n",
    "import seaborn as sns\n",
    "import matplotlib.pyplot as plt\n",
    "%matplotlib inline"
   ]
  },
  {
   "cell_type": "code",
   "execution_count": 2,
   "metadata": {},
   "outputs": [],
   "source": [
    "# Load csv files\n",
    "bom_mg_df = pd.read_csv('data/zippedData/bom.movie_gross.csv.gz')\n",
    "imdb_tr_df = pd.read_csv('data/zippedData/imdb.title.ratings.csv.gz')\n",
    "imdb_tb_df = pd.read_csv('data/zippedData/imdb.title.basics.csv.gz')"
   ]
  },
  {
   "cell_type": "markdown",
   "metadata": {},
   "source": [
    "**BOM Movie Gross Data**"
   ]
  },
  {
   "cell_type": "code",
   "execution_count": 3,
   "metadata": {},
   "outputs": [
    {
     "name": "stdout",
     "output_type": "stream",
     "text": [
      "====================================================================================================\n",
      "title\n",
      "(3387, 5) \n",
      "\n",
      "<class 'pandas.core.frame.DataFrame'>\n",
      "RangeIndex: 3387 entries, 0 to 3386\n",
      "Data columns (total 5 columns):\n",
      " #   Column          Non-Null Count  Dtype  \n",
      "---  ------          --------------  -----  \n",
      " 0   title           3387 non-null   object \n",
      " 1   studio          3382 non-null   object \n",
      " 2   domestic_gross  3359 non-null   float64\n",
      " 3   foreign_gross   2037 non-null   object \n",
      " 4   year            3387 non-null   int64  \n",
      "dtypes: float64(1), int64(1), object(3)\n",
      "memory usage: 132.4+ KB\n",
      "None \n",
      "\n",
      "            title studio  domestic_gross foreign_gross         year\n",
      "count        3387   3382    3.359000e+03          2037  3387.000000\n",
      "unique       3386    257             NaN          1204          NaN\n",
      "top     Bluebeard    IFC             NaN       1200000          NaN\n",
      "freq            2    166             NaN            23          NaN\n",
      "mean          NaN    NaN    2.874585e+07           NaN  2013.958075\n",
      "std           NaN    NaN    6.698250e+07           NaN     2.478141\n",
      "min           NaN    NaN    1.000000e+02           NaN  2010.000000\n",
      "25%           NaN    NaN    1.200000e+05           NaN  2012.000000\n",
      "50%           NaN    NaN    1.400000e+06           NaN  2014.000000\n",
      "75%           NaN    NaN    2.790000e+07           NaN  2016.000000\n",
      "max           NaN    NaN    9.367000e+08           NaN  2018.000000\n",
      "====================================================================================================\n",
      "studio\n",
      "(3387, 5) \n",
      "\n",
      "<class 'pandas.core.frame.DataFrame'>\n",
      "RangeIndex: 3387 entries, 0 to 3386\n",
      "Data columns (total 5 columns):\n",
      " #   Column          Non-Null Count  Dtype  \n",
      "---  ------          --------------  -----  \n",
      " 0   title           3387 non-null   object \n",
      " 1   studio          3382 non-null   object \n",
      " 2   domestic_gross  3359 non-null   float64\n",
      " 3   foreign_gross   2037 non-null   object \n",
      " 4   year            3387 non-null   int64  \n",
      "dtypes: float64(1), int64(1), object(3)\n",
      "memory usage: 132.4+ KB\n",
      "None \n",
      "\n",
      "            title studio  domestic_gross foreign_gross         year\n",
      "count        3387   3382    3.359000e+03          2037  3387.000000\n",
      "unique       3386    257             NaN          1204          NaN\n",
      "top     Bluebeard    IFC             NaN       1200000          NaN\n",
      "freq            2    166             NaN            23          NaN\n",
      "mean          NaN    NaN    2.874585e+07           NaN  2013.958075\n",
      "std           NaN    NaN    6.698250e+07           NaN     2.478141\n",
      "min           NaN    NaN    1.000000e+02           NaN  2010.000000\n",
      "25%           NaN    NaN    1.200000e+05           NaN  2012.000000\n",
      "50%           NaN    NaN    1.400000e+06           NaN  2014.000000\n",
      "75%           NaN    NaN    2.790000e+07           NaN  2016.000000\n",
      "max           NaN    NaN    9.367000e+08           NaN  2018.000000\n",
      "====================================================================================================\n",
      "domestic_gross\n",
      "(3387, 5) \n",
      "\n",
      "<class 'pandas.core.frame.DataFrame'>\n",
      "RangeIndex: 3387 entries, 0 to 3386\n",
      "Data columns (total 5 columns):\n",
      " #   Column          Non-Null Count  Dtype  \n",
      "---  ------          --------------  -----  \n",
      " 0   title           3387 non-null   object \n",
      " 1   studio          3382 non-null   object \n",
      " 2   domestic_gross  3359 non-null   float64\n",
      " 3   foreign_gross   2037 non-null   object \n",
      " 4   year            3387 non-null   int64  \n",
      "dtypes: float64(1), int64(1), object(3)\n",
      "memory usage: 132.4+ KB\n",
      "None \n",
      "\n",
      "            title studio  domestic_gross foreign_gross         year\n",
      "count        3387   3382    3.359000e+03          2037  3387.000000\n",
      "unique       3386    257             NaN          1204          NaN\n",
      "top     Bluebeard    IFC             NaN       1200000          NaN\n",
      "freq            2    166             NaN            23          NaN\n",
      "mean          NaN    NaN    2.874585e+07           NaN  2013.958075\n",
      "std           NaN    NaN    6.698250e+07           NaN     2.478141\n",
      "min           NaN    NaN    1.000000e+02           NaN  2010.000000\n",
      "25%           NaN    NaN    1.200000e+05           NaN  2012.000000\n",
      "50%           NaN    NaN    1.400000e+06           NaN  2014.000000\n",
      "75%           NaN    NaN    2.790000e+07           NaN  2016.000000\n",
      "max           NaN    NaN    9.367000e+08           NaN  2018.000000\n",
      "====================================================================================================\n",
      "foreign_gross\n",
      "(3387, 5) \n",
      "\n",
      "<class 'pandas.core.frame.DataFrame'>\n",
      "RangeIndex: 3387 entries, 0 to 3386\n",
      "Data columns (total 5 columns):\n",
      " #   Column          Non-Null Count  Dtype  \n",
      "---  ------          --------------  -----  \n",
      " 0   title           3387 non-null   object \n",
      " 1   studio          3382 non-null   object \n",
      " 2   domestic_gross  3359 non-null   float64\n",
      " 3   foreign_gross   2037 non-null   object \n",
      " 4   year            3387 non-null   int64  \n",
      "dtypes: float64(1), int64(1), object(3)\n",
      "memory usage: 132.4+ KB\n",
      "None \n",
      "\n",
      "            title studio  domestic_gross foreign_gross         year\n",
      "count        3387   3382    3.359000e+03          2037  3387.000000\n",
      "unique       3386    257             NaN          1204          NaN\n",
      "top     Bluebeard    IFC             NaN       1200000          NaN\n",
      "freq            2    166             NaN            23          NaN\n",
      "mean          NaN    NaN    2.874585e+07           NaN  2013.958075\n",
      "std           NaN    NaN    6.698250e+07           NaN     2.478141\n",
      "min           NaN    NaN    1.000000e+02           NaN  2010.000000\n",
      "25%           NaN    NaN    1.200000e+05           NaN  2012.000000\n",
      "50%           NaN    NaN    1.400000e+06           NaN  2014.000000\n",
      "75%           NaN    NaN    2.790000e+07           NaN  2016.000000\n",
      "max           NaN    NaN    9.367000e+08           NaN  2018.000000\n",
      "====================================================================================================\n",
      "year\n",
      "(3387, 5) \n",
      "\n",
      "<class 'pandas.core.frame.DataFrame'>\n",
      "RangeIndex: 3387 entries, 0 to 3386\n",
      "Data columns (total 5 columns):\n",
      " #   Column          Non-Null Count  Dtype  \n",
      "---  ------          --------------  -----  \n",
      " 0   title           3387 non-null   object \n",
      " 1   studio          3382 non-null   object \n",
      " 2   domestic_gross  3359 non-null   float64\n",
      " 3   foreign_gross   2037 non-null   object \n",
      " 4   year            3387 non-null   int64  \n",
      "dtypes: float64(1), int64(1), object(3)\n",
      "memory usage: 132.4+ KB\n",
      "None \n",
      "\n",
      "            title studio  domestic_gross foreign_gross         year\n",
      "count        3387   3382    3.359000e+03          2037  3387.000000\n",
      "unique       3386    257             NaN          1204          NaN\n",
      "top     Bluebeard    IFC             NaN       1200000          NaN\n",
      "freq            2    166             NaN            23          NaN\n",
      "mean          NaN    NaN    2.874585e+07           NaN  2013.958075\n",
      "std           NaN    NaN    6.698250e+07           NaN     2.478141\n",
      "min           NaN    NaN    1.000000e+02           NaN  2010.000000\n",
      "25%           NaN    NaN    1.200000e+05           NaN  2012.000000\n",
      "50%           NaN    NaN    1.400000e+06           NaN  2014.000000\n",
      "75%           NaN    NaN    2.790000e+07           NaN  2016.000000\n",
      "max           NaN    NaN    9.367000e+08           NaN  2018.000000\n"
     ]
    }
   ],
   "source": [
    "# Function to get data frame info\n",
    "def df_scope(bom_mg_df):\n",
    "    #print name,.shape, .info, .describe\n",
    "    for name, df in bom_mg_df.items():\n",
    "        print('=' * 100)\n",
    "        print(name)\n",
    "        print(bom_mg_df.shape, '\\n')\n",
    "        print(bom_mg_df.info(), '\\n')\n",
    "        print(bom_mg_df.describe(include='all'))\n",
    "df_scope(bom_mg_df)"
   ]
  },
  {
   "cell_type": "code",
   "execution_count": 4,
   "metadata": {},
   "outputs": [
    {
     "data": {
      "text/html": [
       "<div>\n",
       "<style scoped>\n",
       "    .dataframe tbody tr th:only-of-type {\n",
       "        vertical-align: middle;\n",
       "    }\n",
       "\n",
       "    .dataframe tbody tr th {\n",
       "        vertical-align: top;\n",
       "    }\n",
       "\n",
       "    .dataframe thead th {\n",
       "        text-align: right;\n",
       "    }\n",
       "</style>\n",
       "<table border=\"1\" class=\"dataframe\">\n",
       "  <thead>\n",
       "    <tr style=\"text-align: right;\">\n",
       "      <th></th>\n",
       "      <th>title</th>\n",
       "      <th>studio</th>\n",
       "      <th>domestic_gross</th>\n",
       "      <th>foreign_gross</th>\n",
       "      <th>year</th>\n",
       "    </tr>\n",
       "  </thead>\n",
       "  <tbody>\n",
       "    <tr>\n",
       "      <th>0</th>\n",
       "      <td>Toy Story 3</td>\n",
       "      <td>BV</td>\n",
       "      <td>415000000.0</td>\n",
       "      <td>652000000</td>\n",
       "      <td>2010</td>\n",
       "    </tr>\n",
       "    <tr>\n",
       "      <th>1</th>\n",
       "      <td>Alice in Wonderland (2010)</td>\n",
       "      <td>BV</td>\n",
       "      <td>334200000.0</td>\n",
       "      <td>691300000</td>\n",
       "      <td>2010</td>\n",
       "    </tr>\n",
       "  </tbody>\n",
       "</table>\n",
       "</div>"
      ],
      "text/plain": [
       "                        title studio  domestic_gross foreign_gross  year\n",
       "0                 Toy Story 3     BV     415000000.0     652000000  2010\n",
       "1  Alice in Wonderland (2010)     BV     334200000.0     691300000  2010"
      ]
     },
     "execution_count": 4,
     "metadata": {},
     "output_type": "execute_result"
    }
   ],
   "source": [
    "bom_mg_df.head(2)"
   ]
  },
  {
   "cell_type": "markdown",
   "metadata": {},
   "source": [
    "**IMDB Title Basics Data**"
   ]
  },
  {
   "cell_type": "code",
   "execution_count": 5,
   "metadata": {},
   "outputs": [
    {
     "name": "stdout",
     "output_type": "stream",
     "text": [
      "====================================================================================================\n",
      "tconst\n",
      "(146144, 6) \n",
      "\n",
      "<class 'pandas.core.frame.DataFrame'>\n",
      "RangeIndex: 146144 entries, 0 to 146143\n",
      "Data columns (total 6 columns):\n",
      " #   Column           Non-Null Count   Dtype  \n",
      "---  ------           --------------   -----  \n",
      " 0   tconst           146144 non-null  object \n",
      " 1   primary_title    146144 non-null  object \n",
      " 2   original_title   146123 non-null  object \n",
      " 3   start_year       146144 non-null  int64  \n",
      " 4   runtime_minutes  114405 non-null  float64\n",
      " 5   genres           140736 non-null  object \n",
      "dtypes: float64(1), int64(1), object(4)\n",
      "memory usage: 6.7+ MB\n",
      "None \n",
      "\n",
      "           tconst primary_title original_title     start_year  \\\n",
      "count      146144        146144         146123  146144.000000   \n",
      "unique     146144        136071         137773            NaN   \n",
      "top     tt5348172          Home         Broken            NaN   \n",
      "freq            1            24             19            NaN   \n",
      "mean          NaN           NaN            NaN    2014.621798   \n",
      "std           NaN           NaN            NaN       2.733583   \n",
      "min           NaN           NaN            NaN    2010.000000   \n",
      "25%           NaN           NaN            NaN    2012.000000   \n",
      "50%           NaN           NaN            NaN    2015.000000   \n",
      "75%           NaN           NaN            NaN    2017.000000   \n",
      "max           NaN           NaN            NaN    2115.000000   \n",
      "\n",
      "        runtime_minutes       genres  \n",
      "count     114405.000000       140736  \n",
      "unique              NaN         1085  \n",
      "top                 NaN  Documentary  \n",
      "freq                NaN        32185  \n",
      "mean          86.187247          NaN  \n",
      "std          166.360590          NaN  \n",
      "min            1.000000          NaN  \n",
      "25%           70.000000          NaN  \n",
      "50%           87.000000          NaN  \n",
      "75%           99.000000          NaN  \n",
      "max        51420.000000          NaN  \n",
      "====================================================================================================\n",
      "primary_title\n",
      "(146144, 6) \n",
      "\n",
      "<class 'pandas.core.frame.DataFrame'>\n",
      "RangeIndex: 146144 entries, 0 to 146143\n",
      "Data columns (total 6 columns):\n",
      " #   Column           Non-Null Count   Dtype  \n",
      "---  ------           --------------   -----  \n",
      " 0   tconst           146144 non-null  object \n",
      " 1   primary_title    146144 non-null  object \n",
      " 2   original_title   146123 non-null  object \n",
      " 3   start_year       146144 non-null  int64  \n",
      " 4   runtime_minutes  114405 non-null  float64\n",
      " 5   genres           140736 non-null  object \n",
      "dtypes: float64(1), int64(1), object(4)\n",
      "memory usage: 6.7+ MB\n",
      "None \n",
      "\n",
      "           tconst primary_title original_title     start_year  \\\n",
      "count      146144        146144         146123  146144.000000   \n",
      "unique     146144        136071         137773            NaN   \n",
      "top     tt5348172          Home         Broken            NaN   \n",
      "freq            1            24             19            NaN   \n",
      "mean          NaN           NaN            NaN    2014.621798   \n",
      "std           NaN           NaN            NaN       2.733583   \n",
      "min           NaN           NaN            NaN    2010.000000   \n",
      "25%           NaN           NaN            NaN    2012.000000   \n",
      "50%           NaN           NaN            NaN    2015.000000   \n",
      "75%           NaN           NaN            NaN    2017.000000   \n",
      "max           NaN           NaN            NaN    2115.000000   \n",
      "\n",
      "        runtime_minutes       genres  \n",
      "count     114405.000000       140736  \n",
      "unique              NaN         1085  \n",
      "top                 NaN  Documentary  \n",
      "freq                NaN        32185  \n",
      "mean          86.187247          NaN  \n",
      "std          166.360590          NaN  \n",
      "min            1.000000          NaN  \n",
      "25%           70.000000          NaN  \n",
      "50%           87.000000          NaN  \n",
      "75%           99.000000          NaN  \n",
      "max        51420.000000          NaN  \n",
      "====================================================================================================\n",
      "original_title\n",
      "(146144, 6) \n",
      "\n",
      "<class 'pandas.core.frame.DataFrame'>\n",
      "RangeIndex: 146144 entries, 0 to 146143\n",
      "Data columns (total 6 columns):\n",
      " #   Column           Non-Null Count   Dtype  \n",
      "---  ------           --------------   -----  \n",
      " 0   tconst           146144 non-null  object \n",
      " 1   primary_title    146144 non-null  object \n",
      " 2   original_title   146123 non-null  object \n",
      " 3   start_year       146144 non-null  int64  \n",
      " 4   runtime_minutes  114405 non-null  float64\n",
      " 5   genres           140736 non-null  object \n",
      "dtypes: float64(1), int64(1), object(4)\n",
      "memory usage: 6.7+ MB\n",
      "None \n",
      "\n",
      "           tconst primary_title original_title     start_year  \\\n",
      "count      146144        146144         146123  146144.000000   \n",
      "unique     146144        136071         137773            NaN   \n",
      "top     tt5348172          Home         Broken            NaN   \n",
      "freq            1            24             19            NaN   \n",
      "mean          NaN           NaN            NaN    2014.621798   \n",
      "std           NaN           NaN            NaN       2.733583   \n",
      "min           NaN           NaN            NaN    2010.000000   \n",
      "25%           NaN           NaN            NaN    2012.000000   \n",
      "50%           NaN           NaN            NaN    2015.000000   \n",
      "75%           NaN           NaN            NaN    2017.000000   \n",
      "max           NaN           NaN            NaN    2115.000000   \n",
      "\n",
      "        runtime_minutes       genres  \n",
      "count     114405.000000       140736  \n",
      "unique              NaN         1085  \n",
      "top                 NaN  Documentary  \n",
      "freq                NaN        32185  \n",
      "mean          86.187247          NaN  \n",
      "std          166.360590          NaN  \n",
      "min            1.000000          NaN  \n",
      "25%           70.000000          NaN  \n",
      "50%           87.000000          NaN  \n",
      "75%           99.000000          NaN  \n",
      "max        51420.000000          NaN  \n",
      "====================================================================================================\n",
      "start_year\n",
      "(146144, 6) \n",
      "\n",
      "<class 'pandas.core.frame.DataFrame'>\n",
      "RangeIndex: 146144 entries, 0 to 146143\n",
      "Data columns (total 6 columns):\n",
      " #   Column           Non-Null Count   Dtype  \n",
      "---  ------           --------------   -----  \n",
      " 0   tconst           146144 non-null  object \n",
      " 1   primary_title    146144 non-null  object \n",
      " 2   original_title   146123 non-null  object \n",
      " 3   start_year       146144 non-null  int64  \n",
      " 4   runtime_minutes  114405 non-null  float64\n",
      " 5   genres           140736 non-null  object \n",
      "dtypes: float64(1), int64(1), object(4)\n",
      "memory usage: 6.7+ MB\n",
      "None \n",
      "\n",
      "           tconst primary_title original_title     start_year  \\\n",
      "count      146144        146144         146123  146144.000000   \n",
      "unique     146144        136071         137773            NaN   \n",
      "top     tt5348172          Home         Broken            NaN   \n",
      "freq            1            24             19            NaN   \n",
      "mean          NaN           NaN            NaN    2014.621798   \n",
      "std           NaN           NaN            NaN       2.733583   \n",
      "min           NaN           NaN            NaN    2010.000000   \n",
      "25%           NaN           NaN            NaN    2012.000000   \n",
      "50%           NaN           NaN            NaN    2015.000000   \n",
      "75%           NaN           NaN            NaN    2017.000000   \n",
      "max           NaN           NaN            NaN    2115.000000   \n",
      "\n",
      "        runtime_minutes       genres  \n",
      "count     114405.000000       140736  \n",
      "unique              NaN         1085  \n",
      "top                 NaN  Documentary  \n",
      "freq                NaN        32185  \n",
      "mean          86.187247          NaN  \n",
      "std          166.360590          NaN  \n",
      "min            1.000000          NaN  \n",
      "25%           70.000000          NaN  \n",
      "50%           87.000000          NaN  \n",
      "75%           99.000000          NaN  \n",
      "max        51420.000000          NaN  \n",
      "====================================================================================================\n",
      "runtime_minutes\n",
      "(146144, 6) \n",
      "\n",
      "<class 'pandas.core.frame.DataFrame'>\n",
      "RangeIndex: 146144 entries, 0 to 146143\n",
      "Data columns (total 6 columns):\n",
      " #   Column           Non-Null Count   Dtype  \n",
      "---  ------           --------------   -----  \n",
      " 0   tconst           146144 non-null  object \n",
      " 1   primary_title    146144 non-null  object \n",
      " 2   original_title   146123 non-null  object \n",
      " 3   start_year       146144 non-null  int64  \n",
      " 4   runtime_minutes  114405 non-null  float64\n",
      " 5   genres           140736 non-null  object \n",
      "dtypes: float64(1), int64(1), object(4)\n",
      "memory usage: 6.7+ MB\n",
      "None \n",
      "\n"
     ]
    },
    {
     "name": "stdout",
     "output_type": "stream",
     "text": [
      "           tconst primary_title original_title     start_year  \\\n",
      "count      146144        146144         146123  146144.000000   \n",
      "unique     146144        136071         137773            NaN   \n",
      "top     tt5348172          Home         Broken            NaN   \n",
      "freq            1            24             19            NaN   \n",
      "mean          NaN           NaN            NaN    2014.621798   \n",
      "std           NaN           NaN            NaN       2.733583   \n",
      "min           NaN           NaN            NaN    2010.000000   \n",
      "25%           NaN           NaN            NaN    2012.000000   \n",
      "50%           NaN           NaN            NaN    2015.000000   \n",
      "75%           NaN           NaN            NaN    2017.000000   \n",
      "max           NaN           NaN            NaN    2115.000000   \n",
      "\n",
      "        runtime_minutes       genres  \n",
      "count     114405.000000       140736  \n",
      "unique              NaN         1085  \n",
      "top                 NaN  Documentary  \n",
      "freq                NaN        32185  \n",
      "mean          86.187247          NaN  \n",
      "std          166.360590          NaN  \n",
      "min            1.000000          NaN  \n",
      "25%           70.000000          NaN  \n",
      "50%           87.000000          NaN  \n",
      "75%           99.000000          NaN  \n",
      "max        51420.000000          NaN  \n",
      "====================================================================================================\n",
      "genres\n",
      "(146144, 6) \n",
      "\n",
      "<class 'pandas.core.frame.DataFrame'>\n",
      "RangeIndex: 146144 entries, 0 to 146143\n",
      "Data columns (total 6 columns):\n",
      " #   Column           Non-Null Count   Dtype  \n",
      "---  ------           --------------   -----  \n",
      " 0   tconst           146144 non-null  object \n",
      " 1   primary_title    146144 non-null  object \n",
      " 2   original_title   146123 non-null  object \n",
      " 3   start_year       146144 non-null  int64  \n",
      " 4   runtime_minutes  114405 non-null  float64\n",
      " 5   genres           140736 non-null  object \n",
      "dtypes: float64(1), int64(1), object(4)\n",
      "memory usage: 6.7+ MB\n",
      "None \n",
      "\n",
      "           tconst primary_title original_title     start_year  \\\n",
      "count      146144        146144         146123  146144.000000   \n",
      "unique     146144        136071         137773            NaN   \n",
      "top     tt5348172          Home         Broken            NaN   \n",
      "freq            1            24             19            NaN   \n",
      "mean          NaN           NaN            NaN    2014.621798   \n",
      "std           NaN           NaN            NaN       2.733583   \n",
      "min           NaN           NaN            NaN    2010.000000   \n",
      "25%           NaN           NaN            NaN    2012.000000   \n",
      "50%           NaN           NaN            NaN    2015.000000   \n",
      "75%           NaN           NaN            NaN    2017.000000   \n",
      "max           NaN           NaN            NaN    2115.000000   \n",
      "\n",
      "        runtime_minutes       genres  \n",
      "count     114405.000000       140736  \n",
      "unique              NaN         1085  \n",
      "top                 NaN  Documentary  \n",
      "freq                NaN        32185  \n",
      "mean          86.187247          NaN  \n",
      "std          166.360590          NaN  \n",
      "min            1.000000          NaN  \n",
      "25%           70.000000          NaN  \n",
      "50%           87.000000          NaN  \n",
      "75%           99.000000          NaN  \n",
      "max        51420.000000          NaN  \n"
     ]
    }
   ],
   "source": [
    "# Repeat function\n",
    "def df_scope(imdb_tb_df):\n",
    "    #print name,.shape, .info, .describe\n",
    "    for name, df in imdb_tb_df.items():\n",
    "        print('=' * 100)\n",
    "        print(name)\n",
    "        print(imdb_tb_df.shape, '\\n')\n",
    "        print(imdb_tb_df.info(), '\\n')\n",
    "        print(imdb_tb_df.describe(include='all'))\n",
    "df_scope(imdb_tb_df)"
   ]
  },
  {
   "cell_type": "markdown",
   "metadata": {},
   "source": [
    "**IMDB Title Ratings Data**"
   ]
  },
  {
   "cell_type": "code",
   "execution_count": 6,
   "metadata": {
    "scrolled": true
   },
   "outputs": [
    {
     "name": "stdout",
     "output_type": "stream",
     "text": [
      "====================================================================================================\n",
      "tconst\n",
      "(73856, 3) \n",
      "\n",
      "<class 'pandas.core.frame.DataFrame'>\n",
      "RangeIndex: 73856 entries, 0 to 73855\n",
      "Data columns (total 3 columns):\n",
      " #   Column         Non-Null Count  Dtype  \n",
      "---  ------         --------------  -----  \n",
      " 0   tconst         73856 non-null  object \n",
      " 1   averagerating  73856 non-null  float64\n",
      " 2   numvotes       73856 non-null  int64  \n",
      "dtypes: float64(1), int64(1), object(1)\n",
      "memory usage: 1.7+ MB\n",
      "None \n",
      "\n",
      "           tconst  averagerating      numvotes\n",
      "count       73856   73856.000000  7.385600e+04\n",
      "unique      73856            NaN           NaN\n",
      "top     tt7938092            NaN           NaN\n",
      "freq            1            NaN           NaN\n",
      "mean          NaN       6.332729  3.523662e+03\n",
      "std           NaN       1.474978  3.029402e+04\n",
      "min           NaN       1.000000  5.000000e+00\n",
      "25%           NaN       5.500000  1.400000e+01\n",
      "50%           NaN       6.500000  4.900000e+01\n",
      "75%           NaN       7.400000  2.820000e+02\n",
      "max           NaN      10.000000  1.841066e+06\n",
      "====================================================================================================\n",
      "averagerating\n",
      "(73856, 3) \n",
      "\n",
      "<class 'pandas.core.frame.DataFrame'>\n",
      "RangeIndex: 73856 entries, 0 to 73855\n",
      "Data columns (total 3 columns):\n",
      " #   Column         Non-Null Count  Dtype  \n",
      "---  ------         --------------  -----  \n",
      " 0   tconst         73856 non-null  object \n",
      " 1   averagerating  73856 non-null  float64\n",
      " 2   numvotes       73856 non-null  int64  \n",
      "dtypes: float64(1), int64(1), object(1)\n",
      "memory usage: 1.7+ MB\n",
      "None \n",
      "\n",
      "           tconst  averagerating      numvotes\n",
      "count       73856   73856.000000  7.385600e+04\n",
      "unique      73856            NaN           NaN\n",
      "top     tt7938092            NaN           NaN\n",
      "freq            1            NaN           NaN\n",
      "mean          NaN       6.332729  3.523662e+03\n",
      "std           NaN       1.474978  3.029402e+04\n",
      "min           NaN       1.000000  5.000000e+00\n",
      "25%           NaN       5.500000  1.400000e+01\n",
      "50%           NaN       6.500000  4.900000e+01\n",
      "75%           NaN       7.400000  2.820000e+02\n",
      "max           NaN      10.000000  1.841066e+06\n",
      "====================================================================================================\n",
      "numvotes\n",
      "(73856, 3) \n",
      "\n",
      "<class 'pandas.core.frame.DataFrame'>\n",
      "RangeIndex: 73856 entries, 0 to 73855\n",
      "Data columns (total 3 columns):\n",
      " #   Column         Non-Null Count  Dtype  \n",
      "---  ------         --------------  -----  \n",
      " 0   tconst         73856 non-null  object \n",
      " 1   averagerating  73856 non-null  float64\n",
      " 2   numvotes       73856 non-null  int64  \n",
      "dtypes: float64(1), int64(1), object(1)\n",
      "memory usage: 1.7+ MB\n",
      "None \n",
      "\n",
      "           tconst  averagerating      numvotes\n",
      "count       73856   73856.000000  7.385600e+04\n",
      "unique      73856            NaN           NaN\n",
      "top     tt7938092            NaN           NaN\n",
      "freq            1            NaN           NaN\n",
      "mean          NaN       6.332729  3.523662e+03\n",
      "std           NaN       1.474978  3.029402e+04\n",
      "min           NaN       1.000000  5.000000e+00\n",
      "25%           NaN       5.500000  1.400000e+01\n",
      "50%           NaN       6.500000  4.900000e+01\n",
      "75%           NaN       7.400000  2.820000e+02\n",
      "max           NaN      10.000000  1.841066e+06\n"
     ]
    }
   ],
   "source": [
    "# Repeat function\n",
    "def df_scope(imdb_tr_df):\n",
    "    #print name,.shape, .info, .describe\n",
    "    for name, df in imdb_tr_df.items():\n",
    "        print('=' * 100)\n",
    "        print(name)\n",
    "        print(imdb_tr_df.shape, '\\n')\n",
    "        print(imdb_tr_df.info(), '\\n')\n",
    "        print(imdb_tr_df.describe(include='all'))\n",
    "df_scope(imdb_tr_df)"
   ]
  },
  {
   "cell_type": "code",
   "execution_count": 7,
   "metadata": {},
   "outputs": [
    {
     "data": {
      "text/plain": [
       "(73856, 8)"
      ]
     },
     "execution_count": 7,
     "metadata": {},
     "output_type": "execute_result"
    }
   ],
   "source": [
    "# Combine both IMDB data frames on common column\n",
    "imdb_df = pd.merge(imdb_tr_df, imdb_tb_df, on='tconst', how='inner')\n",
    "imdb_df.shape"
   ]
  },
  {
   "cell_type": "code",
   "execution_count": 8,
   "metadata": {},
   "outputs": [
    {
     "data": {
      "text/html": [
       "<div>\n",
       "<style scoped>\n",
       "    .dataframe tbody tr th:only-of-type {\n",
       "        vertical-align: middle;\n",
       "    }\n",
       "\n",
       "    .dataframe tbody tr th {\n",
       "        vertical-align: top;\n",
       "    }\n",
       "\n",
       "    .dataframe thead th {\n",
       "        text-align: right;\n",
       "    }\n",
       "</style>\n",
       "<table border=\"1\" class=\"dataframe\">\n",
       "  <thead>\n",
       "    <tr style=\"text-align: right;\">\n",
       "      <th></th>\n",
       "      <th>tconst</th>\n",
       "      <th>averagerating</th>\n",
       "      <th>numvotes</th>\n",
       "      <th>primary_title</th>\n",
       "      <th>original_title</th>\n",
       "      <th>start_year</th>\n",
       "      <th>runtime_minutes</th>\n",
       "      <th>genres</th>\n",
       "    </tr>\n",
       "  </thead>\n",
       "  <tbody>\n",
       "    <tr>\n",
       "      <th>0</th>\n",
       "      <td>tt10356526</td>\n",
       "      <td>8.3</td>\n",
       "      <td>31</td>\n",
       "      <td>Laiye Je Yaarian</td>\n",
       "      <td>Laiye Je Yaarian</td>\n",
       "      <td>2019</td>\n",
       "      <td>117.0</td>\n",
       "      <td>Romance</td>\n",
       "    </tr>\n",
       "    <tr>\n",
       "      <th>1</th>\n",
       "      <td>tt10384606</td>\n",
       "      <td>8.9</td>\n",
       "      <td>559</td>\n",
       "      <td>Borderless</td>\n",
       "      <td>Borderless</td>\n",
       "      <td>2019</td>\n",
       "      <td>87.0</td>\n",
       "      <td>Documentary</td>\n",
       "    </tr>\n",
       "  </tbody>\n",
       "</table>\n",
       "</div>"
      ],
      "text/plain": [
       "       tconst  averagerating  numvotes     primary_title    original_title  \\\n",
       "0  tt10356526            8.3        31  Laiye Je Yaarian  Laiye Je Yaarian   \n",
       "1  tt10384606            8.9       559        Borderless        Borderless   \n",
       "\n",
       "   start_year  runtime_minutes       genres  \n",
       "0        2019            117.0      Romance  \n",
       "1        2019             87.0  Documentary  "
      ]
     },
     "execution_count": 8,
     "metadata": {},
     "output_type": "execute_result"
    }
   ],
   "source": [
    "imdb_df.head(2)"
   ]
  },
  {
   "cell_type": "code",
   "execution_count": 9,
   "metadata": {},
   "outputs": [
    {
     "data": {
      "text/html": [
       "<div>\n",
       "<style scoped>\n",
       "    .dataframe tbody tr th:only-of-type {\n",
       "        vertical-align: middle;\n",
       "    }\n",
       "\n",
       "    .dataframe tbody tr th {\n",
       "        vertical-align: top;\n",
       "    }\n",
       "\n",
       "    .dataframe thead th {\n",
       "        text-align: right;\n",
       "    }\n",
       "</style>\n",
       "<table border=\"1\" class=\"dataframe\">\n",
       "  <thead>\n",
       "    <tr style=\"text-align: right;\">\n",
       "      <th></th>\n",
       "      <th>tconst</th>\n",
       "      <th>averagerating</th>\n",
       "      <th>numvotes</th>\n",
       "      <th>primary_title</th>\n",
       "      <th>original_title</th>\n",
       "      <th>start_year</th>\n",
       "      <th>runtime_minutes</th>\n",
       "      <th>genres</th>\n",
       "    </tr>\n",
       "  </thead>\n",
       "  <tbody>\n",
       "    <tr>\n",
       "      <th>0</th>\n",
       "      <td>tt10356526</td>\n",
       "      <td>8.3</td>\n",
       "      <td>31</td>\n",
       "      <td>Laiye Je Yaarian</td>\n",
       "      <td>Laiye Je Yaarian</td>\n",
       "      <td>2019</td>\n",
       "      <td>117.0</td>\n",
       "      <td>Romance</td>\n",
       "    </tr>\n",
       "    <tr>\n",
       "      <th>1</th>\n",
       "      <td>tt10384606</td>\n",
       "      <td>8.9</td>\n",
       "      <td>559</td>\n",
       "      <td>Borderless</td>\n",
       "      <td>Borderless</td>\n",
       "      <td>2019</td>\n",
       "      <td>87.0</td>\n",
       "      <td>Documentary</td>\n",
       "    </tr>\n",
       "  </tbody>\n",
       "</table>\n",
       "</div>"
      ],
      "text/plain": [
       "       tconst  averagerating  numvotes     primary_title    original_title  \\\n",
       "0  tt10356526            8.3        31  Laiye Je Yaarian  Laiye Je Yaarian   \n",
       "1  tt10384606            8.9       559        Borderless        Borderless   \n",
       "\n",
       "   start_year  runtime_minutes       genres  \n",
       "0        2019            117.0      Romance  \n",
       "1        2019             87.0  Documentary  "
      ]
     },
     "execution_count": 9,
     "metadata": {},
     "output_type": "execute_result"
    }
   ],
   "source": [
    "imdb_df.head(2)"
   ]
  },
  {
   "cell_type": "markdown",
   "metadata": {},
   "source": [
    "**Combined Dateframe**"
   ]
  },
  {
   "cell_type": "code",
   "execution_count": 10,
   "metadata": {},
   "outputs": [],
   "source": [
    "imdb_df.rename(columns = {'primary_title':'title'}, inplace = True)"
   ]
  },
  {
   "cell_type": "code",
   "execution_count": 11,
   "metadata": {},
   "outputs": [
    {
     "data": {
      "text/html": [
       "<div>\n",
       "<style scoped>\n",
       "    .dataframe tbody tr th:only-of-type {\n",
       "        vertical-align: middle;\n",
       "    }\n",
       "\n",
       "    .dataframe tbody tr th {\n",
       "        vertical-align: top;\n",
       "    }\n",
       "\n",
       "    .dataframe thead th {\n",
       "        text-align: right;\n",
       "    }\n",
       "</style>\n",
       "<table border=\"1\" class=\"dataframe\">\n",
       "  <thead>\n",
       "    <tr style=\"text-align: right;\">\n",
       "      <th></th>\n",
       "      <th>title</th>\n",
       "      <th>studio</th>\n",
       "      <th>domestic_gross</th>\n",
       "      <th>foreign_gross</th>\n",
       "      <th>year</th>\n",
       "    </tr>\n",
       "  </thead>\n",
       "  <tbody>\n",
       "    <tr>\n",
       "      <th>0</th>\n",
       "      <td>Toy Story 3</td>\n",
       "      <td>BV</td>\n",
       "      <td>415000000.0</td>\n",
       "      <td>652000000</td>\n",
       "      <td>2010</td>\n",
       "    </tr>\n",
       "    <tr>\n",
       "      <th>1</th>\n",
       "      <td>Alice in Wonderland (2010)</td>\n",
       "      <td>BV</td>\n",
       "      <td>334200000.0</td>\n",
       "      <td>691300000</td>\n",
       "      <td>2010</td>\n",
       "    </tr>\n",
       "  </tbody>\n",
       "</table>\n",
       "</div>"
      ],
      "text/plain": [
       "                        title studio  domestic_gross foreign_gross  year\n",
       "0                 Toy Story 3     BV     415000000.0     652000000  2010\n",
       "1  Alice in Wonderland (2010)     BV     334200000.0     691300000  2010"
      ]
     },
     "execution_count": 11,
     "metadata": {},
     "output_type": "execute_result"
    }
   ],
   "source": [
    "bom_mg_df.head(2)"
   ]
  },
  {
   "cell_type": "code",
   "execution_count": 12,
   "metadata": {},
   "outputs": [
    {
     "data": {
      "text/html": [
       "<div>\n",
       "<style scoped>\n",
       "    .dataframe tbody tr th:only-of-type {\n",
       "        vertical-align: middle;\n",
       "    }\n",
       "\n",
       "    .dataframe tbody tr th {\n",
       "        vertical-align: top;\n",
       "    }\n",
       "\n",
       "    .dataframe thead th {\n",
       "        text-align: right;\n",
       "    }\n",
       "</style>\n",
       "<table border=\"1\" class=\"dataframe\">\n",
       "  <thead>\n",
       "    <tr style=\"text-align: right;\">\n",
       "      <th></th>\n",
       "      <th>tconst</th>\n",
       "      <th>averagerating</th>\n",
       "      <th>numvotes</th>\n",
       "      <th>title</th>\n",
       "      <th>original_title</th>\n",
       "      <th>start_year</th>\n",
       "      <th>runtime_minutes</th>\n",
       "      <th>genres</th>\n",
       "    </tr>\n",
       "  </thead>\n",
       "  <tbody>\n",
       "    <tr>\n",
       "      <th>73854</th>\n",
       "      <td>tt9886934</td>\n",
       "      <td>7.0</td>\n",
       "      <td>5</td>\n",
       "      <td>The Projectionist</td>\n",
       "      <td>The Projectionist</td>\n",
       "      <td>2019</td>\n",
       "      <td>81.0</td>\n",
       "      <td>Documentary</td>\n",
       "    </tr>\n",
       "    <tr>\n",
       "      <th>73855</th>\n",
       "      <td>tt9894098</td>\n",
       "      <td>6.3</td>\n",
       "      <td>128</td>\n",
       "      <td>Sathru</td>\n",
       "      <td>Sathru</td>\n",
       "      <td>2019</td>\n",
       "      <td>129.0</td>\n",
       "      <td>Thriller</td>\n",
       "    </tr>\n",
       "  </tbody>\n",
       "</table>\n",
       "</div>"
      ],
      "text/plain": [
       "          tconst  averagerating  numvotes              title  \\\n",
       "73854  tt9886934            7.0         5  The Projectionist   \n",
       "73855  tt9894098            6.3       128             Sathru   \n",
       "\n",
       "          original_title  start_year  runtime_minutes       genres  \n",
       "73854  The Projectionist        2019             81.0  Documentary  \n",
       "73855             Sathru        2019            129.0     Thriller  "
      ]
     },
     "execution_count": 12,
     "metadata": {},
     "output_type": "execute_result"
    }
   ],
   "source": [
    "imdb_df.tail(2)"
   ]
  },
  {
   "cell_type": "code",
   "execution_count": 13,
   "metadata": {},
   "outputs": [
    {
     "data": {
      "text/html": [
       "<div>\n",
       "<style scoped>\n",
       "    .dataframe tbody tr th:only-of-type {\n",
       "        vertical-align: middle;\n",
       "    }\n",
       "\n",
       "    .dataframe tbody tr th {\n",
       "        vertical-align: top;\n",
       "    }\n",
       "\n",
       "    .dataframe thead th {\n",
       "        text-align: right;\n",
       "    }\n",
       "</style>\n",
       "<table border=\"1\" class=\"dataframe\">\n",
       "  <thead>\n",
       "    <tr style=\"text-align: right;\">\n",
       "      <th></th>\n",
       "      <th>tconst</th>\n",
       "      <th>averagerating</th>\n",
       "      <th>numvotes</th>\n",
       "      <th>title</th>\n",
       "      <th>original_title</th>\n",
       "      <th>start_year</th>\n",
       "      <th>runtime_minutes</th>\n",
       "      <th>genres</th>\n",
       "      <th>studio</th>\n",
       "      <th>domestic_gross</th>\n",
       "      <th>foreign_gross</th>\n",
       "      <th>year</th>\n",
       "    </tr>\n",
       "  </thead>\n",
       "  <tbody>\n",
       "    <tr>\n",
       "      <th>0</th>\n",
       "      <td>tt1043726</td>\n",
       "      <td>4.2</td>\n",
       "      <td>50352</td>\n",
       "      <td>The Legend of Hercules</td>\n",
       "      <td>The Legend of Hercules</td>\n",
       "      <td>2014</td>\n",
       "      <td>99.0</td>\n",
       "      <td>Action,Adventure,Fantasy</td>\n",
       "      <td>LG/S</td>\n",
       "      <td>18800000.0</td>\n",
       "      <td>42400000</td>\n",
       "      <td>2014</td>\n",
       "    </tr>\n",
       "    <tr>\n",
       "      <th>1</th>\n",
       "      <td>tt1171222</td>\n",
       "      <td>5.1</td>\n",
       "      <td>8296</td>\n",
       "      <td>Baggage Claim</td>\n",
       "      <td>Baggage Claim</td>\n",
       "      <td>2013</td>\n",
       "      <td>96.0</td>\n",
       "      <td>Comedy</td>\n",
       "      <td>FoxS</td>\n",
       "      <td>21600000.0</td>\n",
       "      <td>887000</td>\n",
       "      <td>2013</td>\n",
       "    </tr>\n",
       "  </tbody>\n",
       "</table>\n",
       "</div>"
      ],
      "text/plain": [
       "      tconst  averagerating  numvotes                   title  \\\n",
       "0  tt1043726            4.2     50352  The Legend of Hercules   \n",
       "1  tt1171222            5.1      8296           Baggage Claim   \n",
       "\n",
       "           original_title  start_year  runtime_minutes  \\\n",
       "0  The Legend of Hercules        2014             99.0   \n",
       "1           Baggage Claim        2013             96.0   \n",
       "\n",
       "                     genres studio  domestic_gross foreign_gross  year  \n",
       "0  Action,Adventure,Fantasy   LG/S      18800000.0      42400000  2014  \n",
       "1                    Comedy   FoxS      21600000.0        887000  2013  "
      ]
     },
     "execution_count": 13,
     "metadata": {},
     "output_type": "execute_result"
    }
   ],
   "source": [
    "# Merge both data frames on common column, 'title'\n",
    "df = imdb_df.merge(bom_mg_df, on = ['title'], how = 'inner')\n",
    "df.head(2)"
   ]
  },
  {
   "cell_type": "code",
   "execution_count": 14,
   "metadata": {},
   "outputs": [
    {
     "data": {
      "text/plain": [
       "(3027, 12)"
      ]
     },
     "execution_count": 14,
     "metadata": {},
     "output_type": "execute_result"
    }
   ],
   "source": [
    "df.shape"
   ]
  },
  {
   "cell_type": "code",
   "execution_count": 15,
   "metadata": {},
   "outputs": [
    {
     "name": "stdout",
     "output_type": "stream",
     "text": [
      "<class 'pandas.core.frame.DataFrame'>\n",
      "Int64Index: 3027 entries, 0 to 3026\n",
      "Data columns (total 12 columns):\n",
      " #   Column           Non-Null Count  Dtype  \n",
      "---  ------           --------------  -----  \n",
      " 0   tconst           3027 non-null   object \n",
      " 1   averagerating    3027 non-null   float64\n",
      " 2   numvotes         3027 non-null   int64  \n",
      " 3   title            3027 non-null   object \n",
      " 4   original_title   3027 non-null   object \n",
      " 5   start_year       3027 non-null   int64  \n",
      " 6   runtime_minutes  2980 non-null   float64\n",
      " 7   genres           3020 non-null   object \n",
      " 8   studio           3024 non-null   object \n",
      " 9   domestic_gross   3005 non-null   float64\n",
      " 10  foreign_gross    1832 non-null   object \n",
      " 11  year             3027 non-null   int64  \n",
      "dtypes: float64(3), int64(3), object(6)\n",
      "memory usage: 307.4+ KB\n"
     ]
    }
   ],
   "source": [
    "df.info()"
   ]
  },
  {
   "cell_type": "markdown",
   "metadata": {},
   "source": [
    "## Data Preparation\n",
    "\n",
    "To begin the data cleaning process I chose to examine and drop any duplicates in the two columns, 'tconst' and 'original_title'. Then find all missing values, check the percentages and drop those, as well. "
   ]
  },
  {
   "cell_type": "code",
   "execution_count": 16,
   "metadata": {},
   "outputs": [],
   "source": [
    "# Check for duplicates and missing values for combined df"
   ]
  },
  {
   "cell_type": "code",
   "execution_count": 17,
   "metadata": {},
   "outputs": [
    {
     "data": {
      "text/html": [
       "<div>\n",
       "<style scoped>\n",
       "    .dataframe tbody tr th:only-of-type {\n",
       "        vertical-align: middle;\n",
       "    }\n",
       "\n",
       "    .dataframe tbody tr th {\n",
       "        vertical-align: top;\n",
       "    }\n",
       "\n",
       "    .dataframe thead th {\n",
       "        text-align: right;\n",
       "    }\n",
       "</style>\n",
       "<table border=\"1\" class=\"dataframe\">\n",
       "  <thead>\n",
       "    <tr style=\"text-align: right;\">\n",
       "      <th></th>\n",
       "      <th>tconst</th>\n",
       "      <th>averagerating</th>\n",
       "      <th>numvotes</th>\n",
       "      <th>title</th>\n",
       "      <th>original_title</th>\n",
       "      <th>start_year</th>\n",
       "      <th>runtime_minutes</th>\n",
       "      <th>genres</th>\n",
       "      <th>studio</th>\n",
       "      <th>domestic_gross</th>\n",
       "      <th>foreign_gross</th>\n",
       "      <th>year</th>\n",
       "    </tr>\n",
       "  </thead>\n",
       "  <tbody>\n",
       "    <tr>\n",
       "      <th>0</th>\n",
       "      <td>tt1043726</td>\n",
       "      <td>4.2</td>\n",
       "      <td>50352</td>\n",
       "      <td>The Legend of Hercules</td>\n",
       "      <td>The Legend of Hercules</td>\n",
       "      <td>2014</td>\n",
       "      <td>99.0</td>\n",
       "      <td>Action,Adventure,Fantasy</td>\n",
       "      <td>LG/S</td>\n",
       "      <td>18800000.0</td>\n",
       "      <td>42400000</td>\n",
       "      <td>2014</td>\n",
       "    </tr>\n",
       "    <tr>\n",
       "      <th>1</th>\n",
       "      <td>tt1171222</td>\n",
       "      <td>5.1</td>\n",
       "      <td>8296</td>\n",
       "      <td>Baggage Claim</td>\n",
       "      <td>Baggage Claim</td>\n",
       "      <td>2013</td>\n",
       "      <td>96.0</td>\n",
       "      <td>Comedy</td>\n",
       "      <td>FoxS</td>\n",
       "      <td>21600000.0</td>\n",
       "      <td>887000</td>\n",
       "      <td>2013</td>\n",
       "    </tr>\n",
       "  </tbody>\n",
       "</table>\n",
       "</div>"
      ],
      "text/plain": [
       "      tconst  averagerating  numvotes                   title  \\\n",
       "0  tt1043726            4.2     50352  The Legend of Hercules   \n",
       "1  tt1171222            5.1      8296           Baggage Claim   \n",
       "\n",
       "           original_title  start_year  runtime_minutes  \\\n",
       "0  The Legend of Hercules        2014             99.0   \n",
       "1           Baggage Claim        2013             96.0   \n",
       "\n",
       "                     genres studio  domestic_gross foreign_gross  year  \n",
       "0  Action,Adventure,Fantasy   LG/S      18800000.0      42400000  2014  \n",
       "1                    Comedy   FoxS      21600000.0        887000  2013  "
      ]
     },
     "execution_count": 17,
     "metadata": {},
     "output_type": "execute_result"
    }
   ],
   "source": [
    "df.head(2)"
   ]
  },
  {
   "cell_type": "code",
   "execution_count": 18,
   "metadata": {},
   "outputs": [
    {
     "data": {
      "text/plain": [
       "2"
      ]
     },
     "execution_count": 18,
     "metadata": {},
     "output_type": "execute_result"
    }
   ],
   "source": [
    "df['tconst'].duplicated().sum()"
   ]
  },
  {
   "cell_type": "code",
   "execution_count": 19,
   "metadata": {},
   "outputs": [
    {
     "data": {
      "text/plain": [
       "(3025, 12)"
      ]
     },
     "execution_count": 19,
     "metadata": {},
     "output_type": "execute_result"
    }
   ],
   "source": [
    "df.drop_duplicates(subset=['tconst'], inplace = True)\n",
    "df.shape"
   ]
  },
  {
   "cell_type": "code",
   "execution_count": 20,
   "metadata": {},
   "outputs": [
    {
     "data": {
      "text/plain": [
       "298"
      ]
     },
     "execution_count": 20,
     "metadata": {},
     "output_type": "execute_result"
    }
   ],
   "source": [
    "df['original_title'].duplicated().sum()"
   ]
  },
  {
   "cell_type": "code",
   "execution_count": 21,
   "metadata": {},
   "outputs": [
    {
     "data": {
      "text/plain": [
       "(2727, 12)"
      ]
     },
     "execution_count": 21,
     "metadata": {},
     "output_type": "execute_result"
    }
   ],
   "source": [
    "df.drop_duplicates(subset = ['original_title'], inplace = True)\n",
    "df.shape"
   ]
  },
  {
   "cell_type": "code",
   "execution_count": 22,
   "metadata": {},
   "outputs": [
    {
     "data": {
      "text/plain": [
       "foreign_gross      1091\n",
       "runtime_minutes      22\n",
       "domestic_gross       17\n",
       "genres                5\n",
       "studio                3\n",
       "year                  0\n",
       "start_year            0\n",
       "original_title        0\n",
       "title                 0\n",
       "numvotes              0\n",
       "averagerating         0\n",
       "tconst                0\n",
       "dtype: int64"
      ]
     },
     "execution_count": 22,
     "metadata": {},
     "output_type": "execute_result"
    }
   ],
   "source": [
    "# Find missing values\n",
    "df.isnull().sum().sort_values(ascending=False)"
   ]
  },
  {
   "cell_type": "code",
   "execution_count": 23,
   "metadata": {},
   "outputs": [
    {
     "data": {
      "text/plain": [
       "foreign_gross      0.400073\n",
       "runtime_minutes    0.008067\n",
       "domestic_gross     0.006234\n",
       "genres             0.001834\n",
       "studio             0.001100\n",
       "year               0.000000\n",
       "start_year         0.000000\n",
       "original_title     0.000000\n",
       "title              0.000000\n",
       "numvotes           0.000000\n",
       "averagerating      0.000000\n",
       "tconst             0.000000\n",
       "dtype: float64"
      ]
     },
     "execution_count": 23,
     "metadata": {},
     "output_type": "execute_result"
    }
   ],
   "source": [
    "len(df)\n",
    "df.isnull().sum().sort_values(ascending = False)/len(df)"
   ]
  },
  {
   "cell_type": "code",
   "execution_count": 24,
   "metadata": {},
   "outputs": [],
   "source": [
    "# Drop unnecessary columns\n",
    "df.drop('foreign_gross', axis = 1, inplace = True)\n",
    "df.drop('tconst', axis = 1, inplace = True)\n",
    "df.drop('year', axis = 1, inplace = True)\n",
    "df.drop('original_title', axis = 1, inplace = True)"
   ]
  },
  {
   "cell_type": "code",
   "execution_count": 25,
   "metadata": {},
   "outputs": [
    {
     "data": {
      "text/plain": [
       "(2683, 8)"
      ]
     },
     "execution_count": 25,
     "metadata": {},
     "output_type": "execute_result"
    }
   ],
   "source": [
    "# Drop missing values from the other columns\n",
    "df.dropna(subset=['genres', 'runtime_minutes', 'domestic_gross', 'studio'], inplace=True)\n",
    "df.shape"
   ]
  },
  {
   "cell_type": "code",
   "execution_count": 26,
   "metadata": {},
   "outputs": [
    {
     "data": {
      "text/plain": [
       "domestic_gross     0\n",
       "studio             0\n",
       "genres             0\n",
       "runtime_minutes    0\n",
       "start_year         0\n",
       "title              0\n",
       "numvotes           0\n",
       "averagerating      0\n",
       "dtype: int64"
      ]
     },
     "execution_count": 26,
     "metadata": {},
     "output_type": "execute_result"
    }
   ],
   "source": [
    "# Double check for missing values\n",
    "df.isnull().sum().sort_values(ascending=False)"
   ]
  },
  {
   "cell_type": "code",
   "execution_count": 27,
   "metadata": {},
   "outputs": [],
   "source": [
    "# rename column\n",
    "df.rename(columns = {'start_year':'release_date'}, inplace = True)"
   ]
  },
  {
   "cell_type": "code",
   "execution_count": 28,
   "metadata": {},
   "outputs": [
    {
     "data": {
      "text/html": [
       "<div>\n",
       "<style scoped>\n",
       "    .dataframe tbody tr th:only-of-type {\n",
       "        vertical-align: middle;\n",
       "    }\n",
       "\n",
       "    .dataframe tbody tr th {\n",
       "        vertical-align: top;\n",
       "    }\n",
       "\n",
       "    .dataframe thead th {\n",
       "        text-align: right;\n",
       "    }\n",
       "</style>\n",
       "<table border=\"1\" class=\"dataframe\">\n",
       "  <thead>\n",
       "    <tr style=\"text-align: right;\">\n",
       "      <th></th>\n",
       "      <th>averagerating</th>\n",
       "      <th>numvotes</th>\n",
       "      <th>title</th>\n",
       "      <th>release_date</th>\n",
       "      <th>runtime_minutes</th>\n",
       "      <th>genres</th>\n",
       "      <th>studio</th>\n",
       "      <th>domestic_gross</th>\n",
       "    </tr>\n",
       "  </thead>\n",
       "  <tbody>\n",
       "    <tr>\n",
       "      <th>0</th>\n",
       "      <td>4.2</td>\n",
       "      <td>50352</td>\n",
       "      <td>The Legend of Hercules</td>\n",
       "      <td>2014</td>\n",
       "      <td>99.0</td>\n",
       "      <td>Action,Adventure,Fantasy</td>\n",
       "      <td>LG/S</td>\n",
       "      <td>18800000.0</td>\n",
       "    </tr>\n",
       "    <tr>\n",
       "      <th>1</th>\n",
       "      <td>5.1</td>\n",
       "      <td>8296</td>\n",
       "      <td>Baggage Claim</td>\n",
       "      <td>2013</td>\n",
       "      <td>96.0</td>\n",
       "      <td>Comedy</td>\n",
       "      <td>FoxS</td>\n",
       "      <td>21600000.0</td>\n",
       "    </tr>\n",
       "  </tbody>\n",
       "</table>\n",
       "</div>"
      ],
      "text/plain": [
       "   averagerating  numvotes                   title  release_date  \\\n",
       "0            4.2     50352  The Legend of Hercules          2014   \n",
       "1            5.1      8296           Baggage Claim          2013   \n",
       "\n",
       "   runtime_minutes                    genres studio  domestic_gross  \n",
       "0             99.0  Action,Adventure,Fantasy   LG/S      18800000.0  \n",
       "1             96.0                    Comedy   FoxS      21600000.0  "
      ]
     },
     "execution_count": 28,
     "metadata": {},
     "output_type": "execute_result"
    }
   ],
   "source": [
    "df.head(2)"
   ]
  },
  {
   "cell_type": "code",
   "execution_count": 29,
   "metadata": {},
   "outputs": [
    {
     "data": {
      "text/html": [
       "<div>\n",
       "<style scoped>\n",
       "    .dataframe tbody tr th:only-of-type {\n",
       "        vertical-align: middle;\n",
       "    }\n",
       "\n",
       "    .dataframe tbody tr th {\n",
       "        vertical-align: top;\n",
       "    }\n",
       "\n",
       "    .dataframe thead th {\n",
       "        text-align: right;\n",
       "    }\n",
       "</style>\n",
       "<table border=\"1\" class=\"dataframe\">\n",
       "  <thead>\n",
       "    <tr style=\"text-align: right;\">\n",
       "      <th></th>\n",
       "      <th>averagerating</th>\n",
       "      <th>numvotes</th>\n",
       "      <th>release_date</th>\n",
       "      <th>runtime_minutes</th>\n",
       "      <th>domestic_gross</th>\n",
       "    </tr>\n",
       "  </thead>\n",
       "  <tbody>\n",
       "    <tr>\n",
       "      <th>count</th>\n",
       "      <td>2683.000000</td>\n",
       "      <td>2.683000e+03</td>\n",
       "      <td>2683.000000</td>\n",
       "      <td>2683.000000</td>\n",
       "      <td>2.683000e+03</td>\n",
       "    </tr>\n",
       "    <tr>\n",
       "      <th>mean</th>\n",
       "      <td>6.486545</td>\n",
       "      <td>6.653972e+04</td>\n",
       "      <td>2013.751025</td>\n",
       "      <td>108.044726</td>\n",
       "      <td>3.027196e+07</td>\n",
       "    </tr>\n",
       "    <tr>\n",
       "      <th>std</th>\n",
       "      <td>0.962640</td>\n",
       "      <td>1.302484e+05</td>\n",
       "      <td>2.441232</td>\n",
       "      <td>19.484201</td>\n",
       "      <td>6.709432e+07</td>\n",
       "    </tr>\n",
       "    <tr>\n",
       "      <th>min</th>\n",
       "      <td>1.600000</td>\n",
       "      <td>5.000000e+00</td>\n",
       "      <td>2010.000000</td>\n",
       "      <td>25.000000</td>\n",
       "      <td>1.000000e+02</td>\n",
       "    </tr>\n",
       "    <tr>\n",
       "      <th>25%</th>\n",
       "      <td>6.000000</td>\n",
       "      <td>3.345500e+03</td>\n",
       "      <td>2012.000000</td>\n",
       "      <td>95.000000</td>\n",
       "      <td>1.260000e+05</td>\n",
       "    </tr>\n",
       "    <tr>\n",
       "      <th>50%</th>\n",
       "      <td>6.600000</td>\n",
       "      <td>1.561200e+04</td>\n",
       "      <td>2014.000000</td>\n",
       "      <td>105.000000</td>\n",
       "      <td>1.800000e+06</td>\n",
       "    </tr>\n",
       "    <tr>\n",
       "      <th>75%</th>\n",
       "      <td>7.200000</td>\n",
       "      <td>7.119100e+04</td>\n",
       "      <td>2016.000000</td>\n",
       "      <td>119.000000</td>\n",
       "      <td>3.120000e+07</td>\n",
       "    </tr>\n",
       "    <tr>\n",
       "      <th>max</th>\n",
       "      <td>8.900000</td>\n",
       "      <td>1.841066e+06</td>\n",
       "      <td>2019.000000</td>\n",
       "      <td>272.000000</td>\n",
       "      <td>7.001000e+08</td>\n",
       "    </tr>\n",
       "  </tbody>\n",
       "</table>\n",
       "</div>"
      ],
      "text/plain": [
       "       averagerating      numvotes  release_date  runtime_minutes  \\\n",
       "count    2683.000000  2.683000e+03   2683.000000      2683.000000   \n",
       "mean        6.486545  6.653972e+04   2013.751025       108.044726   \n",
       "std         0.962640  1.302484e+05      2.441232        19.484201   \n",
       "min         1.600000  5.000000e+00   2010.000000        25.000000   \n",
       "25%         6.000000  3.345500e+03   2012.000000        95.000000   \n",
       "50%         6.600000  1.561200e+04   2014.000000       105.000000   \n",
       "75%         7.200000  7.119100e+04   2016.000000       119.000000   \n",
       "max         8.900000  1.841066e+06   2019.000000       272.000000   \n",
       "\n",
       "       domestic_gross  \n",
       "count    2.683000e+03  \n",
       "mean     3.027196e+07  \n",
       "std      6.709432e+07  \n",
       "min      1.000000e+02  \n",
       "25%      1.260000e+05  \n",
       "50%      1.800000e+06  \n",
       "75%      3.120000e+07  \n",
       "max      7.001000e+08  "
      ]
     },
     "execution_count": 29,
     "metadata": {},
     "output_type": "execute_result"
    }
   ],
   "source": [
    "df.describe()"
   ]
  },
  {
   "cell_type": "code",
   "execution_count": 30,
   "metadata": {},
   "outputs": [
    {
     "data": {
      "text/plain": [
       "<AxesSubplot:xlabel='runtime_minutes'>"
      ]
     },
     "execution_count": 30,
     "metadata": {},
     "output_type": "execute_result"
    },
    {
     "data": {
      "image/png": "[encoded data removed]",
      "text/plain": [
       "<Figure size 432x288 with 1 Axes>"
      ]
     },
     "metadata": {
      "needs_background": "light"
     },
     "output_type": "display_data"
    }
   ],
   "source": [
    "# Check for outliers\n",
    "sns.distplot(df['runtime_minutes'])"
   ]
  },
  {
   "cell_type": "code",
   "execution_count": 31,
   "metadata": {},
   "outputs": [],
   "source": [
    "# Remove outliers\n",
    "df = df[df.runtime_minutes != 272]\n",
    "df = df[df.runtime_minutes != 25]"
   ]
  },
  {
   "cell_type": "markdown",
   "metadata": {},
   "source": [
    "## Data Modeling "
   ]
  },
  {
   "cell_type": "markdown",
   "metadata": {},
   "source": [
    "**Question 1:  How many films have the top studios made from 2010-2019, and which studio brings in the most earnings? In other words, what are the studios that will be Microsoft's biggest competition?**"
   ]
  },
  {
   "cell_type": "code",
   "execution_count": 32,
   "metadata": {},
   "outputs": [
    {
     "data": {
      "text/html": [
       "<div>\n",
       "<style scoped>\n",
       "    .dataframe tbody tr th:only-of-type {\n",
       "        vertical-align: middle;\n",
       "    }\n",
       "\n",
       "    .dataframe tbody tr th {\n",
       "        vertical-align: top;\n",
       "    }\n",
       "\n",
       "    .dataframe thead th {\n",
       "        text-align: right;\n",
       "    }\n",
       "</style>\n",
       "<table border=\"1\" class=\"dataframe\">\n",
       "  <thead>\n",
       "    <tr style=\"text-align: right;\">\n",
       "      <th></th>\n",
       "      <th>averagerating</th>\n",
       "      <th>numvotes</th>\n",
       "      <th>title</th>\n",
       "      <th>release_date</th>\n",
       "      <th>runtime_minutes</th>\n",
       "      <th>genres</th>\n",
       "      <th>studio</th>\n",
       "      <th>domestic_gross</th>\n",
       "    </tr>\n",
       "  </thead>\n",
       "  <tbody>\n",
       "    <tr>\n",
       "      <th>0</th>\n",
       "      <td>4.2</td>\n",
       "      <td>50352</td>\n",
       "      <td>The Legend of Hercules</td>\n",
       "      <td>2014</td>\n",
       "      <td>99.0</td>\n",
       "      <td>Action,Adventure,Fantasy</td>\n",
       "      <td>LG/S</td>\n",
       "      <td>18800000.0</td>\n",
       "    </tr>\n",
       "    <tr>\n",
       "      <th>1</th>\n",
       "      <td>5.1</td>\n",
       "      <td>8296</td>\n",
       "      <td>Baggage Claim</td>\n",
       "      <td>2013</td>\n",
       "      <td>96.0</td>\n",
       "      <td>Comedy</td>\n",
       "      <td>FoxS</td>\n",
       "      <td>21600000.0</td>\n",
       "    </tr>\n",
       "  </tbody>\n",
       "</table>\n",
       "</div>"
      ],
      "text/plain": [
       "   averagerating  numvotes                   title  release_date  \\\n",
       "0            4.2     50352  The Legend of Hercules          2014   \n",
       "1            5.1      8296           Baggage Claim          2013   \n",
       "\n",
       "   runtime_minutes                    genres studio  domestic_gross  \n",
       "0             99.0  Action,Adventure,Fantasy   LG/S      18800000.0  \n",
       "1             96.0                    Comedy   FoxS      21600000.0  "
      ]
     },
     "execution_count": 32,
     "metadata": {},
     "output_type": "execute_result"
    }
   ],
   "source": [
    "df.head(2)"
   ]
  },
  {
   "cell_type": "code",
   "execution_count": 33,
   "metadata": {},
   "outputs": [
    {
     "data": {
      "text/plain": [
       "IFC      133\n",
       "Uni.     131\n",
       "Fox      121\n",
       "Magn.    108\n",
       "WB       107\n",
       "SPC       99\n",
       "BV        86\n",
       "Sony      82\n",
       "Par.      80\n",
       "LGF       80\n",
       "Name: studio, dtype: int64"
      ]
     },
     "execution_count": 33,
     "metadata": {},
     "output_type": "execute_result"
    }
   ],
   "source": [
    "# How many films per studio\n",
    "top_studios = df['studio'].value_counts().head(10)\n",
    "top_studios"
   ]
  },
  {
   "cell_type": "code",
   "execution_count": 34,
   "metadata": {},
   "outputs": [
    {
     "data": {
      "text/plain": [
       "count     10.000000\n",
       "mean     102.700000\n",
       "std       20.688429\n",
       "min       80.000000\n",
       "25%       83.000000\n",
       "50%      103.000000\n",
       "75%      117.750000\n",
       "max      133.000000\n",
       "Name: studio, dtype: float64"
      ]
     },
     "execution_count": 34,
     "metadata": {},
     "output_type": "execute_result"
    }
   ],
   "source": [
    "top_studios.describe()"
   ]
  },
  {
   "cell_type": "code",
   "execution_count": 35,
   "metadata": {},
   "outputs": [
    {
     "data": {
      "image/png": "[encoded data removed]",
      "text/plain": [
       "<Figure size 648x432 with 1 Axes>"
      ]
     },
     "metadata": {
      "needs_background": "light"
     },
     "output_type": "display_data"
    }
   ],
   "source": [
    "# Bar graph of top 10 studios and number of movies made\n",
    "studio = ['IFC', 'Universal', 'Fox', 'Magnolia', 'WB', 'SPC', 'BV', 'Sony', 'LGF', 'Paramount']\n",
    "num_film = [133, 131, 121, 108, 107, 99, 86, 82, 80, 80]\n",
    "\n",
    "plt.figure(figsize=(9,6))\n",
    "\n",
    "plt.bar(x= studio,\n",
    " \n",
    "        height= num_film,\n",
    "        \n",
    "       color = 'lightblue', edgecolor = 'black')\n",
    "\n",
    "plt.xlabel('Top 10 Studios')\n",
    "plt.ylabel('Number of films made between 2010 - 2019')\n",
    "plt.xticks(rotation=45)\n",
    "plt.title('Productive Studios')\n",
    "\n",
    "sns.set();"
   ]
  },
  {
   "cell_type": "code",
   "execution_count": 36,
   "metadata": {},
   "outputs": [
    {
     "data": {
      "text/plain": [
       "studio\n",
       "BV         1.474870e+10\n",
       "Uni.       1.152670e+10\n",
       "Fox        9.853700e+09\n",
       "WB         9.415000e+09\n",
       "Sony       6.809846e+09\n",
       "Par.       6.517213e+09\n",
       "WB (NL)    3.962400e+09\n",
       "LGF        3.440950e+09\n",
       "P/DW       1.682900e+09\n",
       "Wein.      1.485199e+09\n",
       "Name: domestic_gross, dtype: float64"
      ]
     },
     "execution_count": 36,
     "metadata": {},
     "output_type": "execute_result"
    }
   ],
   "source": [
    "# Group top studios and their domestic gross sum\n",
    "studio_gross = df.groupby('studio').domestic_gross.sum().sort_values(ascending = False).head(10)\n",
    "studio_gross"
   ]
  },
  {
   "cell_type": "code",
   "execution_count": 37,
   "metadata": {},
   "outputs": [
    {
     "data": {
      "image/png": "[encoded data removed]",
      "text/plain": [
       "<Figure size 648x432 with 1 Axes>"
      ]
     },
     "metadata": {},
     "output_type": "display_data"
    }
   ],
   "source": [
    "# Bar graph of studios and domestic gross sum\n",
    "studio_gross.plot.bar(figsize=(9,6), color = 'tan', \n",
    "                      edgecolor = 'white'\n",
    "                     )\n",
    "plt.xlabel('Top 10 Studios')\n",
    "plt.ylabel('Studio Earnings')\n",
    "plt.title('Top Grossing Studios')\n",
    "sns.set();"
   ]
  },
  {
   "cell_type": "markdown",
   "metadata": {},
   "source": [
    "The most productive studios from 2010-2019 made over 80 films in that time with Buena Vista studios bringing in the highest earnings.\n"
   ]
  },
  {
   "cell_type": "markdown",
   "metadata": {},
   "source": [
    "**Question 2: Is there a correlation between film length and domestic gross?**"
   ]
  },
  {
   "cell_type": "code",
   "execution_count": 38,
   "metadata": {},
   "outputs": [
    {
     "data": {
      "text/plain": [
       "count    2.681000e+03\n",
       "mean     3.027515e+07\n",
       "std      6.711552e+07\n",
       "min      1.000000e+02\n",
       "25%      1.260000e+05\n",
       "50%      1.800000e+06\n",
       "75%      3.120000e+07\n",
       "max      7.001000e+08\n",
       "Name: domestic_gross, dtype: float64"
      ]
     },
     "execution_count": 38,
     "metadata": {},
     "output_type": "execute_result"
    }
   ],
   "source": [
    "df['domestic_gross'].describe()"
   ]
  },
  {
   "cell_type": "code",
   "execution_count": 39,
   "metadata": {},
   "outputs": [
    {
     "data": {
      "text/plain": [
       "<Figure size 648x432 with 0 Axes>"
      ]
     },
     "metadata": {},
     "output_type": "display_data"
    },
    {
     "data": {
      "image/png": "[encoded data removed]",
      "text/plain": [
       "<Figure size 432x288 with 1 Axes>"
      ]
     },
     "metadata": {},
     "output_type": "display_data"
    }
   ],
   "source": [
    "# Scatter plot of domestic gross vs movie length\n",
    "plt.figure(figsize = (9, 6))\n",
    "df.plot.scatter(x = 'runtime_minutes', y = 'domestic_gross', color = 'black')\n",
    "plt.title(\"Domestic gross vs Movie length\")\n",
    "\n",
    "plt.show()\n",
    "\n",
    "sns.set();\n"
   ]
  },
  {
   "cell_type": "markdown",
   "metadata": {},
   "source": [
    "It looks there is a slight positive correlation between the two with the higher grossing films being in the 2 - 2.5 hour range. Perhaps making a film that length would be a good move."
   ]
  },
  {
   "cell_type": "markdown",
   "metadata": {},
   "source": [
    "**Question 3: What are the most popular movie genres?**"
   ]
  },
  {
   "cell_type": "code",
   "execution_count": 40,
   "metadata": {},
   "outputs": [
    {
     "data": {
      "text/html": [
       "<div>\n",
       "<style scoped>\n",
       "    .dataframe tbody tr th:only-of-type {\n",
       "        vertical-align: middle;\n",
       "    }\n",
       "\n",
       "    .dataframe tbody tr th {\n",
       "        vertical-align: top;\n",
       "    }\n",
       "\n",
       "    .dataframe thead th {\n",
       "        text-align: right;\n",
       "    }\n",
       "</style>\n",
       "<table border=\"1\" class=\"dataframe\">\n",
       "  <thead>\n",
       "    <tr style=\"text-align: right;\">\n",
       "      <th></th>\n",
       "      <th>averagerating</th>\n",
       "      <th>numvotes</th>\n",
       "      <th>title</th>\n",
       "      <th>release_date</th>\n",
       "      <th>runtime_minutes</th>\n",
       "      <th>genres</th>\n",
       "      <th>studio</th>\n",
       "      <th>domestic_gross</th>\n",
       "    </tr>\n",
       "  </thead>\n",
       "  <tbody>\n",
       "    <tr>\n",
       "      <th>0</th>\n",
       "      <td>4.2</td>\n",
       "      <td>50352</td>\n",
       "      <td>The Legend of Hercules</td>\n",
       "      <td>2014</td>\n",
       "      <td>99.0</td>\n",
       "      <td>Action,Adventure,Fantasy</td>\n",
       "      <td>LG/S</td>\n",
       "      <td>18800000.0</td>\n",
       "    </tr>\n",
       "  </tbody>\n",
       "</table>\n",
       "</div>"
      ],
      "text/plain": [
       "   averagerating  numvotes                   title  release_date  \\\n",
       "0            4.2     50352  The Legend of Hercules          2014   \n",
       "\n",
       "   runtime_minutes                    genres studio  domestic_gross  \n",
       "0             99.0  Action,Adventure,Fantasy   LG/S      18800000.0  "
      ]
     },
     "execution_count": 40,
     "metadata": {},
     "output_type": "execute_result"
    }
   ],
   "source": [
    "df.head(1)"
   ]
  },
  {
   "cell_type": "code",
   "execution_count": 41,
   "metadata": {},
   "outputs": [
    {
     "data": {
      "text/plain": [
       "Drama          677\n",
       "Action         592\n",
       "Comedy         569\n",
       "Biography      227\n",
       "Adventure      203\n",
       "Documentary    128\n",
       "Crime          116\n",
       "Horror          84\n",
       "Animation       35\n",
       "Thriller        18\n",
       "Fantasy         11\n",
       "Mystery          8\n",
       "Romance          8\n",
       "Family           2\n",
       "Sci-Fi           1\n",
       "Sport            1\n",
       "Music            1\n",
       "Name: new_genres, dtype: int64"
      ]
     },
     "execution_count": 41,
     "metadata": {},
     "output_type": "execute_result"
    }
   ],
   "source": [
    "# Organize genres by first genre in string - for simplification\n",
    "df['new_genres'] = df['genres'].str.split(pat=\",\").str[0]\n",
    "df['new_genres'].value_counts()"
   ]
  },
  {
   "cell_type": "code",
   "execution_count": 42,
   "metadata": {},
   "outputs": [
    {
     "data": {
      "text/html": [
       "<div>\n",
       "<style scoped>\n",
       "    .dataframe tbody tr th:only-of-type {\n",
       "        vertical-align: middle;\n",
       "    }\n",
       "\n",
       "    .dataframe tbody tr th {\n",
       "        vertical-align: top;\n",
       "    }\n",
       "\n",
       "    .dataframe thead th {\n",
       "        text-align: right;\n",
       "    }\n",
       "</style>\n",
       "<table border=\"1\" class=\"dataframe\">\n",
       "  <thead>\n",
       "    <tr style=\"text-align: right;\">\n",
       "      <th></th>\n",
       "      <th>averagerating</th>\n",
       "      <th>numvotes</th>\n",
       "      <th>release_date</th>\n",
       "      <th>runtime_minutes</th>\n",
       "      <th>domestic_gross</th>\n",
       "    </tr>\n",
       "    <tr>\n",
       "      <th>new_genres</th>\n",
       "      <th></th>\n",
       "      <th></th>\n",
       "      <th></th>\n",
       "      <th></th>\n",
       "      <th></th>\n",
       "    </tr>\n",
       "  </thead>\n",
       "  <tbody>\n",
       "    <tr>\n",
       "      <th>Action</th>\n",
       "      <td>3751.5</td>\n",
       "      <td>76494734</td>\n",
       "      <td>1192261</td>\n",
       "      <td>68654.0</td>\n",
       "      <td>3.653866e+10</td>\n",
       "    </tr>\n",
       "    <tr>\n",
       "      <th>Adventure</th>\n",
       "      <td>1319.1</td>\n",
       "      <td>20258369</td>\n",
       "      <td>408849</td>\n",
       "      <td>21020.0</td>\n",
       "      <td>1.475267e+10</td>\n",
       "    </tr>\n",
       "    <tr>\n",
       "      <th>Animation</th>\n",
       "      <td>238.7</td>\n",
       "      <td>1524793</td>\n",
       "      <td>70493</td>\n",
       "      <td>3339.0</td>\n",
       "      <td>9.411647e+08</td>\n",
       "    </tr>\n",
       "    <tr>\n",
       "      <th>Biography</th>\n",
       "      <td>1589.0</td>\n",
       "      <td>14129553</td>\n",
       "      <td>457249</td>\n",
       "      <td>25461.0</td>\n",
       "      <td>4.291921e+09</td>\n",
       "    </tr>\n",
       "    <tr>\n",
       "      <th>Comedy</th>\n",
       "      <td>3547.9</td>\n",
       "      <td>25024900</td>\n",
       "      <td>1145600</td>\n",
       "      <td>59980.0</td>\n",
       "      <td>1.132005e+10</td>\n",
       "    </tr>\n",
       "    <tr>\n",
       "      <th>Crime</th>\n",
       "      <td>776.9</td>\n",
       "      <td>7325512</td>\n",
       "      <td>233595</td>\n",
       "      <td>13067.0</td>\n",
       "      <td>1.469601e+09</td>\n",
       "    </tr>\n",
       "    <tr>\n",
       "      <th>Documentary</th>\n",
       "      <td>929.0</td>\n",
       "      <td>646155</td>\n",
       "      <td>257718</td>\n",
       "      <td>11595.0</td>\n",
       "      <td>1.092938e+09</td>\n",
       "    </tr>\n",
       "    <tr>\n",
       "      <th>Drama</th>\n",
       "      <td>4470.5</td>\n",
       "      <td>25172473</td>\n",
       "      <td>1363243</td>\n",
       "      <td>73239.0</td>\n",
       "      <td>7.027175e+09</td>\n",
       "    </tr>\n",
       "    <tr>\n",
       "      <th>Family</th>\n",
       "      <td>12.7</td>\n",
       "      <td>145</td>\n",
       "      <td>4033</td>\n",
       "      <td>182.0</td>\n",
       "      <td>1.398400e+07</td>\n",
       "    </tr>\n",
       "    <tr>\n",
       "      <th>Fantasy</th>\n",
       "      <td>70.4</td>\n",
       "      <td>200047</td>\n",
       "      <td>22151</td>\n",
       "      <td>1215.0</td>\n",
       "      <td>4.656020e+08</td>\n",
       "    </tr>\n",
       "    <tr>\n",
       "      <th>Horror</th>\n",
       "      <td>453.0</td>\n",
       "      <td>5400191</td>\n",
       "      <td>169172</td>\n",
       "      <td>7960.0</td>\n",
       "      <td>2.562128e+09</td>\n",
       "    </tr>\n",
       "    <tr>\n",
       "      <th>Music</th>\n",
       "      <td>7.2</td>\n",
       "      <td>15592</td>\n",
       "      <td>2013</td>\n",
       "      <td>93.0</td>\n",
       "      <td>3.400000e+06</td>\n",
       "    </tr>\n",
       "    <tr>\n",
       "      <th>Mystery</th>\n",
       "      <td>56.2</td>\n",
       "      <td>2011759</td>\n",
       "      <td>16108</td>\n",
       "      <td>902.0</td>\n",
       "      <td>3.426180e+08</td>\n",
       "    </tr>\n",
       "    <tr>\n",
       "      <th>Romance</th>\n",
       "      <td>46.9</td>\n",
       "      <td>263754</td>\n",
       "      <td>16113</td>\n",
       "      <td>885.0</td>\n",
       "      <td>6.489330e+07</td>\n",
       "    </tr>\n",
       "    <tr>\n",
       "      <th>Sci-Fi</th>\n",
       "      <td>5.9</td>\n",
       "      <td>3501</td>\n",
       "      <td>2018</td>\n",
       "      <td>89.0</td>\n",
       "      <td>7.800000e+04</td>\n",
       "    </tr>\n",
       "    <tr>\n",
       "      <th>Sport</th>\n",
       "      <td>7.9</td>\n",
       "      <td>77</td>\n",
       "      <td>2014</td>\n",
       "      <td>114.0</td>\n",
       "      <td>5.300000e+06</td>\n",
       "    </tr>\n",
       "    <tr>\n",
       "      <th>Thriller</th>\n",
       "      <td>105.2</td>\n",
       "      <td>51572</td>\n",
       "      <td>36241</td>\n",
       "      <td>1792.0</td>\n",
       "      <td>2.754883e+08</td>\n",
       "    </tr>\n",
       "  </tbody>\n",
       "</table>\n",
       "</div>"
      ],
      "text/plain": [
       "             averagerating  numvotes  release_date  runtime_minutes  \\\n",
       "new_genres                                                            \n",
       "Action              3751.5  76494734       1192261          68654.0   \n",
       "Adventure           1319.1  20258369        408849          21020.0   \n",
       "Animation            238.7   1524793         70493           3339.0   \n",
       "Biography           1589.0  14129553        457249          25461.0   \n",
       "Comedy              3547.9  25024900       1145600          59980.0   \n",
       "Crime                776.9   7325512        233595          13067.0   \n",
       "Documentary          929.0    646155        257718          11595.0   \n",
       "Drama               4470.5  25172473       1363243          73239.0   \n",
       "Family                12.7       145          4033            182.0   \n",
       "Fantasy               70.4    200047         22151           1215.0   \n",
       "Horror               453.0   5400191        169172           7960.0   \n",
       "Music                  7.2     15592          2013             93.0   \n",
       "Mystery               56.2   2011759         16108            902.0   \n",
       "Romance               46.9    263754         16113            885.0   \n",
       "Sci-Fi                 5.9      3501          2018             89.0   \n",
       "Sport                  7.9        77          2014            114.0   \n",
       "Thriller             105.2     51572         36241           1792.0   \n",
       "\n",
       "             domestic_gross  \n",
       "new_genres                   \n",
       "Action         3.653866e+10  \n",
       "Adventure      1.475267e+10  \n",
       "Animation      9.411647e+08  \n",
       "Biography      4.291921e+09  \n",
       "Comedy         1.132005e+10  \n",
       "Crime          1.469601e+09  \n",
       "Documentary    1.092938e+09  \n",
       "Drama          7.027175e+09  \n",
       "Family         1.398400e+07  \n",
       "Fantasy        4.656020e+08  \n",
       "Horror         2.562128e+09  \n",
       "Music          3.400000e+06  \n",
       "Mystery        3.426180e+08  \n",
       "Romance        6.489330e+07  \n",
       "Sci-Fi         7.800000e+04  \n",
       "Sport          5.300000e+06  \n",
       "Thriller       2.754883e+08  "
      ]
     },
     "execution_count": 42,
     "metadata": {},
     "output_type": "execute_result"
    }
   ],
   "source": [
    "# Group the data by genres\n",
    "df.groupby('new_genres').sum()"
   ]
  },
  {
   "cell_type": "code",
   "execution_count": 43,
   "metadata": {},
   "outputs": [
    {
     "data": {
      "image/png": "[encoded data removed]",
      "text/plain": [
       "<Figure size 648x432 with 1 Axes>"
      ]
     },
     "metadata": {},
     "output_type": "display_data"
    }
   ],
   "source": [
    "# Horizontal Bar chart\n",
    "fig, ax = plt.subplots(figsize = (9,6))\n",
    "\n",
    "genre_types = df['new_genres'].value_counts()\n",
    "\n",
    "ax.barh(y=genre_types.index, \n",
    "    width=genre_types.values, color = 'lightblue', edgecolor = 'white'\n",
    ")\n",
    "ax.set_xlabel('Count')\n",
    "ax.set_title('Top Genres')\n",
    "sns.set();"
   ]
  },
  {
   "cell_type": "markdown",
   "metadata": {},
   "source": [
    "Results show drama, action, and comedy are the most frequently made movies."
   ]
  },
  {
   "cell_type": "code",
   "execution_count": 44,
   "metadata": {},
   "outputs": [
    {
     "data": {
      "image/png": "[encoded data removed]",
      "text/plain": [
       "<Figure size 648x432 with 1 Axes>"
      ]
     },
     "metadata": {},
     "output_type": "display_data"
    }
   ],
   "source": [
    "# Graph by genre and number of votes - or number of customer interaction\n",
    "df.groupby(['new_genres'])['numvotes'].sum().sort_values().plot(kind='barh', figsize=(9,6), edgecolor = 'tan')\n",
    "plt.title('Popular Movie Genres by Customer Engagement')\n",
    "plt.xlabel(\"Number of votes\")\n",
    "plt.ylabel('Genres')\n",
    "sns.set();"
   ]
  },
  {
   "cell_type": "markdown",
   "metadata": {},
   "source": [
    "Results show that action films result in a lot more online engagement compared the other genres. "
   ]
  },
  {
   "cell_type": "code",
   "execution_count": 45,
   "metadata": {},
   "outputs": [
    {
     "data": {
      "image/png": "[encoded data removed]",
      "text/plain": [
       "<Figure size 648x432 with 1 Axes>"
      ]
     },
     "metadata": {},
     "output_type": "display_data"
    }
   ],
   "source": [
    "# Bar graph\n",
    "df.groupby(['new_genres'])['averagerating'].mean().sort_values().plot(kind='barh',\n",
    "                                                                      figsize=(9,6),\n",
    "                                                                      edgecolor = 'tan')\n",
    "plt.title(\"Genres by Average Rating\")\n",
    "plt.xlabel('Average Rating')\n",
    "plt.ylabel('Genres')\n",
    "sns.set();"
   ]
  },
  {
   "cell_type": "markdown",
   "metadata": {},
   "source": [
    "Results seem to show that sport, documentary, and music come out as the top three genres with\n",
    "the highest ratings. However, this would be inaccurate to conclude due the low number of votes\n",
    "for those particular genres."
   ]
  },
  {
   "cell_type": "markdown",
   "metadata": {},
   "source": [
    "Looking at the previous three graphs, it appears action, drama, and comedy are the most successful genres with audiences."
   ]
  },
  {
   "cell_type": "markdown",
   "metadata": {},
   "source": [
    "## Evaluation\n",
    "\n",
    "The visualizations show that the top movie studios today have made an average of 102.7 films  between 2010-2019 with that being about 11.4 films a year. The other visualization shows that movies that make a higher domestic gross are between 2 - 2.5 hours long. With the final visualizations, it looks like drama, action, and comedy are the most frequently made films with the action genre creating the most 'buzz'/customer engagement. "
   ]
  },
  {
   "cell_type": "markdown",
   "metadata": {},
   "source": [
    "## Conclusions\n",
    "\n",
    "With all this in mind, I would recommend Microsoft to make a movie that is between 2 to 2.5 hours long and also to consider a film in the action, drama, or comedy genre. Additionally, I would recommend making about 11.4 films a year in order to compete with the top studios. This analysis has gaps due to the small data set and with only including domestic gross as a measure of earnings. To improve this project, I would like to work with foreign gross and cost of production data to understand the bigger picture of potential earnings per film."
   ]
  },
  {
   "cell_type": "code",
   "execution_count": null,
   "metadata": {},
   "outputs": [],
   "source": []
  }
 ],
 "metadata": {
  "kernelspec": {
   "display_name": "learn-env",
   "language": "python",
   "name": "learn-env"
  },
  "language_info": {
   "codemirror_mode": {
    "name": "ipython",
    "version": 3
   },
   "file_extension": ".py",
   "mimetype": "text/x-python",
   "name": "python",
   "nbconvert_exporter": "python",
   "pygments_lexer": "ipython3",
   "version": "3.6.9"
  }
 },
 "nbformat": 4,
 "nbformat_minor": 4
}
